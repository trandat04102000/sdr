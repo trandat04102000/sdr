{
 "cells": [
  {
   "cell_type": "code",
   "execution_count": 3,
   "metadata": {},
   "outputs": [],
   "source": [
    "import sys\n",
    "import numpy as np\n",
    "import cv2\n",
    "import torch\n",
    "import matplotlib.pyplot as plt\n",
    "from imutils import contours"
   ]
  },
  {
   "cell_type": "code",
   "execution_count": 4,
   "metadata": {},
   "outputs": [
    {
     "name": "stdout",
     "output_type": "stream",
     "text": [
      "3.10.9 | packaged by Anaconda, Inc. | (main, Mar  1 2023, 18:18:15) [MSC v.1916 64 bit (AMD64)]\n",
      "4.7.0\n"
     ]
    }
   ],
   "source": [
    "print(sys.version)\n",
    "print(cv2.__version__)"
   ]
  },
  {
   "cell_type": "code",
   "execution_count": 5,
   "metadata": {},
   "outputs": [],
   "source": [
    "def letterbox(img, new_shape=(25, 25), color=(255, 255, 255), auto=True, scaleFill=False, scaleup=True, stride=32):\n",
    "    # Resize and pad image while meeting stride-multiple constraints\n",
    "    shape = img.shape[:2]  # current shape [height, width]\n",
    "    if isinstance(new_shape, int):\n",
    "        new_shape = (new_shape, new_shape)\n",
    "\n",
    "    # Scale ratio (new / old)\n",
    "    r = min(new_shape[0] / shape[0], new_shape[1] / shape[1])\n",
    "    if not scaleup:  # only scale down, do not scale up (for better test mAP)\n",
    "        r = min(r, 1.0)\n",
    "\n",
    "    # Compute padding\n",
    "    ratio = r, r  # width, height ratios\n",
    "    new_unpad = int(round(shape[1] * r)), int(round(shape[0] * r))\n",
    "    dw, dh = new_shape[1] - new_unpad[0], new_shape[0] - new_unpad[1]  # wh padding\n",
    "    if auto:  # minimum rectangle\n",
    "        dw, dh = np.mod(dw, stride), np.mod(dh, stride)  # wh padding\n",
    "    elif scaleFill:  # stretch\n",
    "        dw, dh = 0.0, 0.0\n",
    "        new_unpad = (new_shape[1], new_shape[0])\n",
    "        ratio = new_shape[1] / shape[1], new_shape[0] / shape[0]  # width, height ratios\n",
    "\n",
    "    dw /= 2  # divide padding into 2 sides\n",
    "    dh /= 2\n",
    "\n",
    "    if shape[::-1] != new_unpad:  # resize\n",
    "        img = cv2.resize(img, new_unpad, interpolation=cv2.INTER_LINEAR)\n",
    "    top, bottom = int(round(dh - 0.1)), int(round(dh + 0.1))\n",
    "    left, right = int(round(dw - 0.1)), int(round(dw + 0.1))\n",
    "    img = cv2.copyMakeBorder(img, top, bottom, left, right, cv2.BORDER_CONSTANT, value=color)  # add border\n",
    "    return img\n"
   ]
  },
  {
   "cell_type": "code",
   "execution_count": 39,
   "metadata": {},
   "outputs": [
    {
     "name": "stdout",
     "output_type": "stream",
     "text": [
      "Contours number found: 12\n"
     ]
    }
   ],
   "source": [
    "img = cv2.imread(\"data/test/4.jpg\")\n",
    "img = cv2.cvtColor(img, cv2.COLOR_BGR2RGB)\n",
    "h, w = img.shape[:2]\n",
    "resize_size = (50,50)\n",
    "r = resize_size[0] / max(h, w)\n",
    "interp = cv2.INTER_AREA \n",
    "img = cv2.resize(img, (int(w*r), int(h*r)), interpolation=interp)\n",
    "grayImg = cv2.cvtColor(img, cv2.COLOR_BGR2GRAY)\n",
    "blur = cv2.GaussianBlur(grayImg, (5, 5), 0)\n",
    "binImg = cv2.adaptiveThreshold(blur, 255, 1, 1, 11, 2)\n",
    "\n",
    "contours_list, hirechy = cv2.findContours(binImg, cv2.RETR_TREE, cv2.CHAIN_APPROX_SIMPLE)\n",
    "\n",
    "print(\"Contours number found:\", len(contours_list))"
   ]
  },
  {
   "cell_type": "code",
   "execution_count": 40,
   "metadata": {},
   "outputs": [],
   "source": [
    "from torchvision import transforms"
   ]
  },
  {
   "cell_type": "code",
   "execution_count": 41,
   "metadata": {},
   "outputs": [],
   "source": [
    "img2 = transforms.ToTensor()(img)"
   ]
  },
  {
   "cell_type": "code",
   "execution_count": 46,
   "metadata": {},
   "outputs": [],
   "source": [
    "img3 = img2.permute(1,2,0) * 255"
   ]
  },
  {
   "cell_type": "code",
   "execution_count": 7,
   "metadata": {},
   "outputs": [
    {
     "name": "stdout",
     "output_type": "stream",
     "text": [
      "2\n"
     ]
    }
   ],
   "source": [
    "countContours = 0\n",
    "digitCnts = []\n",
    "resize_size = (28,28)\n",
    "string =\"\"\n",
    "test = []\n",
    "for contour in contours_list:\n",
    "    if cv2.contourArea(contour) > 70 and cv2.contourArea(contour) < 450:\n",
    "        x, y, w, h = contourRect = cv2.boundingRect(contour)\n",
    "        if h / w > 1.2 and h/w < 2.5 and w > 8:\n",
    "            digitCnts.append(contour)\n",
    "print(len(digitCnts))"
   ]
  },
  {
   "cell_type": "code",
   "execution_count": 8,
   "metadata": {},
   "outputs": [
    {
     "name": "stdout",
     "output_type": "stream",
     "text": [
      "11\t14\t13\t21\n",
      "26\t15\t12\t21\n"
     ]
    },
    {
     "data": {
      "image/png": "[encoded data removed]",
      "text/plain": [
       "<Figure size 640x480 with 1 Axes>"
      ]
     },
     "metadata": {},
     "output_type": "display_data"
    },
    {
     "name": "stdout",
     "output_type": "stream",
     "text": [
      "\n"
     ]
    }
   ],
   "source": [
    "\n",
    "digitCnts = contours.sort_contours(digitCnts, method=\"left-to-right\")[0]\n",
    "\n",
    "for contour in digitCnts:\n",
    "    x, y, w, h = contourRect = cv2.boundingRect(contour)\n",
    "    cv2.rectangle(img, (x, y), (x + w, y + h), (0, 255, 0))\n",
    "    print(x, y, w, h, sep=\"\\t\")\n",
    "    r = 28 / max(h, w)\n",
    "    interp = cv2.INTER_AREA if r < 1 else cv2.INTER_LINEAR\n",
    "    roi = blur[y:y+h,x:x+w]\n",
    "    roi = cv2.resize(roi, (int(w*r), int(h*r)), interpolation=interp)\n",
    "    roismall = letterbox(roi, resize_size)\n",
    "    roismall = 255 - roismall\n",
    "    roismall = roismall.reshape((1, 784))\n",
    "    roismall = np.float32(roismall)\n",
    "    # retval, results, neigh_resp, dists = knn.findNearest(roismall, k = 2)\n",
    "    # string += str(int((results[0][0])))\n",
    "    threshold = np.median(roismall[roismall != 0])\n",
    "    background_mask = roismall > threshold\n",
    "    digit_mask = roismall <= threshold\n",
    "    roismall[background_mask] = 255\n",
    "    roismall[digit_mask] = 0\n",
    "    roismall = np.float32(roismall.reshape(1, 28, 28)/255)\n",
    "    test.append(torch.from_numpy(roismall))\n",
    "# for contour in digitCnts:\n",
    "#     if cv2.contourArea(contour) > 85 and cv2.contourArea(contour) < 450:\n",
    "#         x, y, w, h = contourRect = cv2.boundingRect(contour)\n",
    "#         if h / w > 1.2 and h/w < 2.5:\n",
    "#             countContours += 1\n",
    "#             digitCnts.append(contour)\n",
    "#             cv2.rectangle(img, (x, y), (x + w, y + h), (0, 255, 0))\n",
    "#             print(x, y, w, h, sep=\"\\t\")\n",
    "#             r = resize_size[1] / max(h, w)\n",
    "#             interp = cv2.INTER_AREA if r < 1 else cv2.INTER_LINEAR\n",
    "#             roi = grayImg[y:y+h,x:x+w]\n",
    "#             roi = cv2.resize(roi, (int(w*r), int(h*r)), interpolation=interp)\n",
    "#             roismall = letterbox(roi, resize_size)\n",
    "#             roismall = roismall.reshape((1, 784))\n",
    "#             roismall = np.float32(roismall)\n",
    "#             retval, results, neigh_resp, dists = knn.findNearest(roismall, k = 2)\n",
    "#             string += str(int((results[0][0])))\n",
    "\n",
    "#             roismall = np.float32(roismall.reshape(28, 28, 1)/255)\n",
    "#             background_mask = roismall > 0.1\n",
    "#             digit_mask = roismall <= 0.1\n",
    "#             roismall[background_mask] = 1\n",
    "#             roismall[digit_mask] = 0\n",
    "#             test.append(roismall)\n",
    "plt.imshow(img)\n",
    "plt.show()\n",
    "print(string)"
   ]
  },
  {
   "cell_type": "code",
   "execution_count": 457,
   "metadata": {},
   "outputs": [
    {
     "data": {
      "image/png": "[encoded data removed]",
      "text/plain": [
       "<Figure size 640x480 with 1 Axes>"
      ]
     },
     "metadata": {},
     "output_type": "display_data"
    },
    {
     "data": {
      "image/png": "[encoded data removed]",
      "text/plain": [
       "<Figure size 640x480 with 1 Axes>"
      ]
     },
     "metadata": {},
     "output_type": "display_data"
    }
   ],
   "source": [
    "plt.imshow(test[0].reshape(28,28,1))\n",
    "plt.show()\n",
    "plt.imshow(test[1].reshape(28,28,1))\n",
    "plt.show()"
   ]
  },
  {
   "cell_type": "code",
   "execution_count": 458,
   "metadata": {},
   "outputs": [
    {
     "data": {
      "text/plain": [
       "'60'"
      ]
     },
     "execution_count": 458,
     "metadata": {},
     "output_type": "execute_result"
    }
   ],
   "source": [
    "model = torch.load(\"number_recognition_best.pt\")\n",
    "num = torch.stack(test)\n",
    "preds=model(num)\n",
    "out = ''\n",
    "preds = preds.softmax(dim=1).max(dim=1)[1]\n",
    "for digit in preds:\n",
    "    out += str(digit.item())\n",
    "out"
   ]
  },
  {
   "attachments": {},
   "cell_type": "markdown",
   "metadata": {},
   "source": [
    "# TRAINING MODEL"
   ]
  },
  {
   "cell_type": "code",
   "execution_count": 93,
   "metadata": {},
   "outputs": [],
   "source": [
    "# keras imports for the dataset and building our neural network\n",
    "from keras.datasets import mnist\n",
    "from keras.models import Sequential\n",
    "from keras.layers import Dense, Dropout, Conv2D, MaxPool2D, Flatten\n",
    "from keras.utils import np_utils\n",
    "\n",
    "# to calculate accuracy\n",
    "from sklearn.metrics import accuracy_score\n",
    "\n",
    "# loading the dataset\n",
    "(X_train, y_train), (X_test, y_test) = mnist.load_data()\n",
    "# n_train = int(0.9*len(samples))\n",
    "# (X_train, y_train), (X_test, y_test) = (samples[:n_train], responses[:n_train]), (samples[n_train:], responses[n_train:])"
   ]
  },
  {
   "cell_type": "code",
   "execution_count": 94,
   "metadata": {},
   "outputs": [
    {
     "name": "stdout",
     "output_type": "stream",
     "text": [
      "Shape before one-hot encoding:  (60000,)\n",
      "Shape after one-hot encoding:  (60000, 10)\n"
     ]
    }
   ],
   "source": [
    "# building the input vector from the 28x28 pixels\n",
    "X_train = X_train.reshape(X_train.shape[0], 1, 28, 28)\n",
    "X_test = X_test.reshape(X_test.shape[0], 1, 28, 28)\n",
    "X_train = X_train.astype('float32')\n",
    "X_test = X_test.astype('float32')\n",
    "\n",
    "# normalizing the data to help with the training\n",
    "X_train /= 255\n",
    "X_test /= 255\n",
    "X_train[X_train > 0.5] = 1\n",
    "X_train[X_train <= 0.5] = 0\n",
    "X_test[X_test > 0.5] = 1\n",
    "X_test[X_test <= 0.5] = 0\n",
    "# one-hot encoding using keras' numpy-related utilities\n",
    "n_classes = 10\n",
    "print(\"Shape before one-hot encoding: \", y_train.shape)\n",
    "Y_train = np_utils.to_categorical(y_train, n_classes)\n",
    "Y_test = np_utils.to_categorical(y_test, n_classes)\n",
    "print(\"Shape after one-hot encoding: \", Y_train.shape)\n"
   ]
  },
  {
   "cell_type": "code",
   "execution_count": 95,
   "metadata": {},
   "outputs": [],
   "source": [
    "import torch\n",
    "import torch.nn as nn\n",
    "from tqdm import tqdm\n",
    "from torchsummary import summary"
   ]
  },
  {
   "cell_type": "code",
   "execution_count": 96,
   "metadata": {},
   "outputs": [],
   "source": [
    "class MNIST_Dataset(torch.utils.data.Dataset):\n",
    "    def __init__(self, data, label):\n",
    "        self.data = data\n",
    "        self.label = label\n",
    "    def __getitem__(self, idx):\n",
    "        return self.data[idx], self.label[idx]\n",
    "    def __len__(self):\n",
    "        return len(self.data)"
   ]
  },
  {
   "cell_type": "code",
   "execution_count": 97,
   "metadata": {},
   "outputs": [],
   "source": [
    "class DigitNet(nn.Module):\n",
    "    def __init__(self):\n",
    "        super(DigitNet, self).__init__()\n",
    "        self.conv0 = nn.Sequential(\n",
    "            nn.Conv2d(in_channels=1, out_channels=16, kernel_size=3, stride=1, padding=1),\n",
    "            nn.BatchNorm2d(num_features=16),\n",
    "            nn.MaxPool2d(kernel_size=(2, 2), stride=(2, 2)),\n",
    "            nn.ReLU()\n",
    "        )\n",
    "        self.conv1 = nn.Sequential(\n",
    "            nn.Conv2d(in_channels=16, out_channels=32, kernel_size=1, stride=1, padding=0),\n",
    "            nn.BatchNorm2d(num_features=32),\n",
    "            nn.ReLU(),\n",
    "            nn.Conv2d(in_channels=32, out_channels=64, kernel_size=3, stride=1, padding=1),\n",
    "            nn.Conv2d(in_channels=64, out_channels=16, kernel_size=1, stride=1, padding=0),\n",
    "            nn.BatchNorm2d(num_features=16),\n",
    "            nn.ReLU(),\n",
    "        )\n",
    "        self.conv2 = nn.Sequential(\n",
    "            nn.Conv2d(in_channels=16, out_channels=16, kernel_size=1, stride=1, padding=0),\n",
    "            nn.BatchNorm2d(num_features=16),\n",
    "            nn.ReLU(),\n",
    "        )\n",
    "        self.conv3 = nn.Sequential(\n",
    "            nn.Conv2d(in_channels=16, out_channels=32, kernel_size=3, stride=2, padding=1),\n",
    "            nn.BatchNorm2d(num_features=32),\n",
    "            nn.ReLU(),\n",
    "        )\n",
    "        self.conv4 = nn.Sequential(\n",
    "            nn.Conv2d(in_channels=32, out_channels=64, kernel_size=1, stride=1, padding=0),\n",
    "            nn.BatchNorm2d(num_features=64),\n",
    "            nn.ReLU(),\n",
    "            nn.Conv2d(in_channels=64, out_channels=128, kernel_size=3, stride=1, padding=1),\n",
    "            nn.Conv2d(in_channels=128, out_channels=32, kernel_size=1, stride=1, padding=0),\n",
    "            nn.BatchNorm2d(num_features=32),\n",
    "            nn.ReLU(),\n",
    "        )\n",
    "        self.conv5 = nn.Sequential(\n",
    "            nn.Conv2d(in_channels=32, out_channels=32, kernel_size=1, stride=1, padding=0),\n",
    "            nn.BatchNorm2d(num_features=32),\n",
    "            nn.ReLU(),\n",
    "        )\n",
    "\n",
    "        self.dense = nn.Sequential(\n",
    "            nn.Conv2d(in_channels=32, out_channels=64, kernel_size=3, stride=1, padding=1),\n",
    "            nn.BatchNorm2d(num_features=64),\n",
    "            nn.MaxPool2d(kernel_size=(2, 2), stride=(2, 2)),\n",
    "            nn.ReLU(),\n",
    "            nn.Conv2d(in_channels=64, out_channels=128, kernel_size=3, stride=1, padding=0),\n",
    "            nn.Conv2d(in_channels=128, out_channels=256, kernel_size=1, stride=1, padding=0),\n",
    "            nn.BatchNorm2d(num_features=256),\n",
    "            nn.ReLU(),\n",
    "            nn.Flatten(),\n",
    "            nn.Linear(256, 512),\n",
    "            nn.ReLU(),\n",
    "            nn.Linear(512, 64),\n",
    "            nn.ReLU(),\n",
    "            nn.Linear(64, 10)\n",
    "        )\n",
    "\n",
    "        # self.net = nn.ModuleList([])\n",
    "        # self.net.append(nn.Conv2d(in_channels=1, out_channels=16, kernel_size=3, stride=1, padding=1))\n",
    "        # self.net.append(nn.BatchNorm2d(num_features=16))\n",
    "        # self.net.append(nn.MaxPool2d(kernel_size=(2, 2), stride=(2, 2)))\n",
    "        # self.net.append(nn.ReLU())\n",
    "        # self.net.append(nn.Conv2d(in_channels=16, out_channels=16, kernel_size=1, stride=1, padding=0))\n",
    "        # self.net.append(nn.BatchNorm2d(num_features=16))\n",
    "        # self.net.append(nn.ReLU())\n",
    "        # self.net.append(nn.Conv2d(in_channels=16, out_channels=32, kernel_size=3, stride=1, padding=1))\n",
    "        # self.net.append(nn.BatchNorm2d(num_features=32))\n",
    "        # self.net.append(nn.MaxPool2d(kernel_size=(2, 2), stride=(2, 2)))\n",
    "        # self.net.append(nn.ReLU())\n",
    "        # self.net.append(nn.Conv2d(in_channels=32, out_channels=64, kernel_size=3, stride=1, padding=0))\n",
    "        # self.net.append(nn.BatchNorm2d(num_features=64))\n",
    "        # self.net.append(nn.MaxPool2d(kernel_size=(2, 2), stride=(2, 2)))\n",
    "        # self.net.append(nn.ReLU())\n",
    "        # self.net.append(nn.Flatten())\n",
    "        # self.net.append(nn.Linear(in_features=576, out_features=800))\n",
    "        # self.net.append(nn.ReLU())\n",
    "        # self.net.append(nn.Linear(in_features=800, out_features=256))\n",
    "        # self.net.append(nn.ReLU())\n",
    "        # self.net.append(nn.Linear(in_features=256, out_features=64))\n",
    "        # self.net.append(nn.ReLU())\n",
    "        # self.net.append(nn.Linear(in_features=64, out_features=10))\n",
    "        # self.net.append(nn.Softmax(dim=1))\n",
    "        # self.model = nn.Sequential(*self.net)\n",
    "    def forward(self, x):\n",
    "        # out = self.model(x)\n",
    "        x = self.conv0(x)\n",
    "        x = self.conv1(x) + self.conv2(x)\n",
    "        x = self.conv3(x)\n",
    "        x = self.conv4(x) + self.conv5(x)\n",
    "        x = self.dense(x)\n",
    "        return x"
   ]
  },
  {
   "cell_type": "code",
   "execution_count": 98,
   "metadata": {},
   "outputs": [],
   "source": [
    "\n",
    "class InfiniteDataLoader(torch.utils.data.dataloader.DataLoader):\n",
    "    \"\"\" Dataloader that reuses workers\n",
    "\n",
    "    Uses same syntax as vanilla DataLoader\n",
    "    \"\"\"\n",
    "\n",
    "    def __init__(self, *args, **kwargs):\n",
    "        super().__init__(*args, **kwargs)\n",
    "        object.__setattr__(self, 'batch_sampler', _RepeatSampler(self.batch_sampler))\n",
    "        self.iterator = super().__iter__()\n",
    "\n",
    "    def __len__(self):\n",
    "        return len(self.batch_sampler.sampler)\n",
    "\n",
    "    def __iter__(self):\n",
    "        for i in range(len(self)):\n",
    "            yield next(self.iterator)\n",
    "\n",
    "\n",
    "class _RepeatSampler(object):\n",
    "    \"\"\" Sampler that repeats forever\n",
    "\n",
    "    Args:\n",
    "        sampler (Sampler)\n",
    "    \"\"\"\n",
    "\n",
    "    def __init__(self, sampler):\n",
    "        self.sampler = sampler\n",
    "\n",
    "    def __iter__(self):\n",
    "        while True:\n",
    "            yield from iter(self.sampler)\n",
    "\n"
   ]
  },
  {
   "cell_type": "code",
   "execution_count": 99,
   "metadata": {},
   "outputs": [],
   "source": [
    "train_data = torch.from_numpy(X_train)\n",
    "train_label = torch.from_numpy(Y_train)\n",
    "train_dataset = MNIST_Dataset(train_data, train_label)\n",
    "dataloader_train = torch.utils.data.dataloader.DataLoader(train_dataset, batch_size=4096, shuffle=True, pin_memory=True)\n",
    "\n",
    "test_data = torch.from_numpy(X_test)\n",
    "test_labels = torch.from_numpy(Y_test)\n",
    "test_dataset = MNIST_Dataset(test_data, test_labels)\n",
    "dataloader_test = torch.utils.data.dataloader.DataLoader(test_dataset, batch_size=8192, shuffle=True, pin_memory=True)"
   ]
  },
  {
   "cell_type": "code",
   "execution_count": 100,
   "metadata": {},
   "outputs": [],
   "source": [
    "# Building model\n",
    "model = DigitNet()\n",
    "loss_function = nn.CrossEntropyLoss()\n",
    "optimizer = torch.optim.Adam(params = model.parameters(), lr=1e-4)"
   ]
  },
  {
   "cell_type": "code",
   "execution_count": 101,
   "metadata": {},
   "outputs": [
    {
     "name": "stdout",
     "output_type": "stream",
     "text": [
      "----------------------------------------------------------------\n",
      "        Layer (type)               Output Shape         Param #\n",
      "================================================================\n",
      "            Conv2d-1            [1, 16, 28, 28]             160\n",
      "       BatchNorm2d-2            [1, 16, 28, 28]              32\n",
      "         MaxPool2d-3            [1, 16, 14, 14]               0\n",
      "              ReLU-4            [1, 16, 14, 14]               0\n",
      "            Conv2d-5            [1, 32, 14, 14]             544\n",
      "       BatchNorm2d-6            [1, 32, 14, 14]              64\n",
      "              ReLU-7            [1, 32, 14, 14]               0\n",
      "            Conv2d-8            [1, 64, 14, 14]          18,496\n",
      "            Conv2d-9            [1, 16, 14, 14]           1,040\n",
      "      BatchNorm2d-10            [1, 16, 14, 14]              32\n",
      "             ReLU-11            [1, 16, 14, 14]               0\n",
      "           Conv2d-12            [1, 16, 14, 14]             272\n",
      "      BatchNorm2d-13            [1, 16, 14, 14]              32\n",
      "             ReLU-14            [1, 16, 14, 14]               0\n",
      "           Conv2d-15              [1, 32, 7, 7]           4,640\n",
      "      BatchNorm2d-16              [1, 32, 7, 7]              64\n",
      "             ReLU-17              [1, 32, 7, 7]               0\n",
      "           Conv2d-18              [1, 64, 7, 7]           2,112\n",
      "      BatchNorm2d-19              [1, 64, 7, 7]             128\n",
      "             ReLU-20              [1, 64, 7, 7]               0\n",
      "           Conv2d-21             [1, 128, 7, 7]          73,856\n",
      "           Conv2d-22              [1, 32, 7, 7]           4,128\n",
      "      BatchNorm2d-23              [1, 32, 7, 7]              64\n",
      "             ReLU-24              [1, 32, 7, 7]               0\n",
      "           Conv2d-25              [1, 32, 7, 7]           1,056\n",
      "      BatchNorm2d-26              [1, 32, 7, 7]              64\n",
      "             ReLU-27              [1, 32, 7, 7]               0\n",
      "           Conv2d-28              [1, 64, 7, 7]          18,496\n",
      "      BatchNorm2d-29              [1, 64, 7, 7]             128\n",
      "        MaxPool2d-30              [1, 64, 3, 3]               0\n",
      "             ReLU-31              [1, 64, 3, 3]               0\n",
      "           Conv2d-32             [1, 128, 1, 1]          73,856\n",
      "           Conv2d-33             [1, 256, 1, 1]          33,024\n",
      "      BatchNorm2d-34             [1, 256, 1, 1]             512\n",
      "             ReLU-35             [1, 256, 1, 1]               0\n",
      "          Flatten-36                   [1, 256]               0\n",
      "           Linear-37                   [1, 512]         131,584\n",
      "             ReLU-38                   [1, 512]               0\n",
      "           Linear-39                    [1, 64]          32,832\n",
      "             ReLU-40                    [1, 64]               0\n",
      "           Linear-41                    [1, 10]             650\n",
      "================================================================\n",
      "Total params: 397,866\n",
      "Trainable params: 397,866\n",
      "Non-trainable params: 0\n",
      "----------------------------------------------------------------\n",
      "Input size (MB): 0.00\n",
      "Forward/backward pass size (MB): 0.92\n",
      "Params size (MB): 1.52\n",
      "Estimated Total Size (MB): 2.44\n",
      "----------------------------------------------------------------\n"
     ]
    }
   ],
   "source": [
    "summary(model, (1, 28, 28), batch_size=1)"
   ]
  },
  {
   "cell_type": "code",
   "execution_count": 139,
   "metadata": {},
   "outputs": [
    {
     "name": "stdout",
     "output_type": "stream",
     "text": [
      "Epoch 0/50:  "
     ]
    },
    {
     "name": "stderr",
     "output_type": "stream",
     "text": [
      "Loss : 0.0002, Accuracy: 1.0000: 100%|██████████| 15/15 [01:27<00:00,  5.81s/it]\n",
      "100%|██████████| 2/2 [00:24<00:00, 12.06s/it]\n"
     ]
    },
    {
     "name": "stdout",
     "output_type": "stream",
     "text": [
      "Val Accuracy: 0.9891\n",
      "Epoch 1/50:  "
     ]
    },
    {
     "name": "stderr",
     "output_type": "stream",
     "text": [
      "Loss : 0.0002, Accuracy: 1.0000: 100%|██████████| 15/15 [01:24<00:00,  5.64s/it]\n",
      "100%|██████████| 2/2 [00:05<00:00,  2.84s/it]\n"
     ]
    },
    {
     "name": "stdout",
     "output_type": "stream",
     "text": [
      "Val Accuracy: 0.9893\n",
      "Epoch 2/50:  "
     ]
    },
    {
     "name": "stderr",
     "output_type": "stream",
     "text": [
      "Loss : 0.0002, Accuracy: 1.0000: 100%|██████████| 15/15 [01:15<00:00,  5.06s/it]\n",
      "100%|██████████| 2/2 [00:04<00:00,  2.35s/it]\n"
     ]
    },
    {
     "name": "stdout",
     "output_type": "stream",
     "text": [
      "Val Accuracy: 0.9896\n",
      "Epoch 3/50:  "
     ]
    },
    {
     "name": "stderr",
     "output_type": "stream",
     "text": [
      "Loss : 0.0002, Accuracy: 1.0000: 100%|██████████| 15/15 [01:11<00:00,  4.75s/it]\n",
      "100%|██████████| 2/2 [00:04<00:00,  2.11s/it]\n"
     ]
    },
    {
     "name": "stdout",
     "output_type": "stream",
     "text": [
      "Val Accuracy: 0.9893\n",
      "Epoch 4/50:  "
     ]
    },
    {
     "name": "stderr",
     "output_type": "stream",
     "text": [
      "Loss : 0.0002, Accuracy: 1.0000: 100%|██████████| 15/15 [01:10<00:00,  4.72s/it]\n",
      "100%|██████████| 2/2 [00:04<00:00,  2.20s/it]\n"
     ]
    },
    {
     "name": "stdout",
     "output_type": "stream",
     "text": [
      "Val Accuracy: 0.9894\n",
      "Epoch 5/50:  "
     ]
    },
    {
     "name": "stderr",
     "output_type": "stream",
     "text": [
      "Loss : 0.0002, Accuracy: 1.0000: 100%|██████████| 15/15 [01:08<00:00,  4.55s/it]\n",
      "100%|██████████| 2/2 [00:04<00:00,  2.06s/it]\n"
     ]
    },
    {
     "name": "stdout",
     "output_type": "stream",
     "text": [
      "Val Accuracy: 0.9898\n",
      "Epoch 6/50:  "
     ]
    },
    {
     "name": "stderr",
     "output_type": "stream",
     "text": [
      "Loss : 0.0002, Accuracy: 1.0000: 100%|██████████| 15/15 [01:08<00:00,  4.56s/it]\n",
      "100%|██████████| 2/2 [00:04<00:00,  2.03s/it]\n"
     ]
    },
    {
     "name": "stdout",
     "output_type": "stream",
     "text": [
      "Val Accuracy: 0.9896\n",
      "Epoch 7/50:  "
     ]
    },
    {
     "name": "stderr",
     "output_type": "stream",
     "text": [
      "Loss : 0.0002, Accuracy: 1.0000: 100%|██████████| 15/15 [01:09<00:00,  4.61s/it]\n",
      "100%|██████████| 2/2 [00:04<00:00,  2.18s/it]\n"
     ]
    },
    {
     "name": "stdout",
     "output_type": "stream",
     "text": [
      "Val Accuracy: 0.9893\n",
      "Epoch 8/50:  "
     ]
    },
    {
     "name": "stderr",
     "output_type": "stream",
     "text": [
      "Loss : 0.0002, Accuracy: 1.0000: 100%|██████████| 15/15 [01:08<00:00,  4.57s/it]\n",
      "100%|██████████| 2/2 [00:04<00:00,  2.13s/it]\n"
     ]
    },
    {
     "name": "stdout",
     "output_type": "stream",
     "text": [
      "Val Accuracy: 0.9896\n",
      "Epoch 9/50:  "
     ]
    },
    {
     "name": "stderr",
     "output_type": "stream",
     "text": [
      "Loss : 0.0002, Accuracy: 1.0000: 100%|██████████| 15/15 [01:07<00:00,  4.52s/it]\n",
      "100%|██████████| 2/2 [00:04<00:00,  2.13s/it]\n"
     ]
    },
    {
     "name": "stdout",
     "output_type": "stream",
     "text": [
      "Val Accuracy: 0.9895\n",
      "Epoch 10/50:  "
     ]
    },
    {
     "name": "stderr",
     "output_type": "stream",
     "text": [
      "Loss : 0.0002, Accuracy: 1.0000: 100%|██████████| 15/15 [01:08<00:00,  4.55s/it]\n",
      "100%|██████████| 2/2 [00:04<00:00,  2.17s/it]\n"
     ]
    },
    {
     "name": "stdout",
     "output_type": "stream",
     "text": [
      "Val Accuracy: 0.9893\n",
      "Epoch 11/50:  "
     ]
    },
    {
     "name": "stderr",
     "output_type": "stream",
     "text": [
      "Loss : 0.0002, Accuracy: 1.0000: 100%|██████████| 15/15 [01:07<00:00,  4.49s/it]\n",
      "100%|██████████| 2/2 [00:04<00:00,  2.04s/it]\n"
     ]
    },
    {
     "name": "stdout",
     "output_type": "stream",
     "text": [
      "Val Accuracy: 0.9894\n",
      "Epoch 12/50:  "
     ]
    },
    {
     "name": "stderr",
     "output_type": "stream",
     "text": [
      "Loss : 0.0001, Accuracy: 1.0000: 100%|██████████| 15/15 [01:14<00:00,  4.98s/it]\n",
      "100%|██████████| 2/2 [00:09<00:00,  4.54s/it]\n"
     ]
    },
    {
     "name": "stdout",
     "output_type": "stream",
     "text": [
      "Val Accuracy: 0.9892\n",
      "Epoch 13/50:  "
     ]
    },
    {
     "name": "stderr",
     "output_type": "stream",
     "text": [
      "Loss : 0.0001, Accuracy: 1.0000: 100%|██████████| 15/15 [01:26<00:00,  5.74s/it]\n",
      "100%|██████████| 2/2 [00:06<00:00,  3.26s/it]\n"
     ]
    },
    {
     "name": "stdout",
     "output_type": "stream",
     "text": [
      "Val Accuracy: 0.9893\n",
      "Epoch 14/50:  "
     ]
    },
    {
     "name": "stderr",
     "output_type": "stream",
     "text": [
      "Loss : 0.0001, Accuracy: 1.0000: 100%|██████████| 15/15 [01:19<00:00,  5.29s/it]\n",
      "100%|██████████| 2/2 [00:08<00:00,  4.19s/it]\n"
     ]
    },
    {
     "name": "stdout",
     "output_type": "stream",
     "text": [
      "Val Accuracy: 0.9897\n",
      "Epoch 15/50:  "
     ]
    },
    {
     "name": "stderr",
     "output_type": "stream",
     "text": [
      "Loss : 0.0001, Accuracy: 1.0000: 100%|██████████| 15/15 [01:20<00:00,  5.33s/it]\n",
      "100%|██████████| 2/2 [00:13<00:00,  6.88s/it]\n"
     ]
    },
    {
     "name": "stdout",
     "output_type": "stream",
     "text": [
      "Val Accuracy: 0.9895\n",
      "Epoch 16/50:  "
     ]
    },
    {
     "name": "stderr",
     "output_type": "stream",
     "text": [
      "Loss : 0.0001, Accuracy: 1.0000: 100%|██████████| 15/15 [01:28<00:00,  5.93s/it]\n",
      "100%|██████████| 2/2 [00:06<00:00,  3.30s/it]\n"
     ]
    },
    {
     "name": "stdout",
     "output_type": "stream",
     "text": [
      "Val Accuracy: 0.9896\n",
      "Epoch 17/50:  "
     ]
    },
    {
     "name": "stderr",
     "output_type": "stream",
     "text": [
      "Loss : 0.0001, Accuracy: 1.0000: 100%|██████████| 15/15 [01:21<00:00,  5.41s/it]\n",
      "100%|██████████| 2/2 [00:06<00:00,  3.20s/it]\n"
     ]
    },
    {
     "name": "stdout",
     "output_type": "stream",
     "text": [
      "Val Accuracy: 0.9895\n",
      "Epoch 18/50:  "
     ]
    },
    {
     "name": "stderr",
     "output_type": "stream",
     "text": [
      "Loss : 0.0001, Accuracy: 1.0000: 100%|██████████| 15/15 [01:22<00:00,  5.47s/it]\n",
      "100%|██████████| 2/2 [00:05<00:00,  2.70s/it]\n"
     ]
    },
    {
     "name": "stdout",
     "output_type": "stream",
     "text": [
      "Val Accuracy: 0.9895\n",
      "Epoch 19/50:  "
     ]
    },
    {
     "name": "stderr",
     "output_type": "stream",
     "text": [
      "Loss : 0.0001, Accuracy: 1.0000: 100%|██████████| 15/15 [01:21<00:00,  5.41s/it]\n",
      "100%|██████████| 2/2 [00:09<00:00,  4.96s/it]\n"
     ]
    },
    {
     "name": "stdout",
     "output_type": "stream",
     "text": [
      "Val Accuracy: 0.9895\n",
      "Epoch 20/50:  "
     ]
    },
    {
     "name": "stderr",
     "output_type": "stream",
     "text": [
      "Loss : 0.0001, Accuracy: 1.0000: 100%|██████████| 15/15 [01:26<00:00,  5.74s/it]\n",
      "100%|██████████| 2/2 [00:06<00:00,  3.26s/it]\n"
     ]
    },
    {
     "name": "stdout",
     "output_type": "stream",
     "text": [
      "Val Accuracy: 0.9894\n",
      "Epoch 21/50:  "
     ]
    },
    {
     "name": "stderr",
     "output_type": "stream",
     "text": [
      "Loss : 0.0001, Accuracy: 1.0000: 100%|██████████| 15/15 [01:23<00:00,  5.56s/it]\n",
      "100%|██████████| 2/2 [00:06<00:00,  3.36s/it]\n"
     ]
    },
    {
     "name": "stdout",
     "output_type": "stream",
     "text": [
      "Val Accuracy: 0.9895\n",
      "Epoch 22/50:  "
     ]
    },
    {
     "name": "stderr",
     "output_type": "stream",
     "text": [
      "Loss : 0.0001, Accuracy: 1.0000: 100%|██████████| 15/15 [01:20<00:00,  5.38s/it]\n",
      "100%|██████████| 2/2 [00:07<00:00,  3.54s/it]\n"
     ]
    },
    {
     "name": "stdout",
     "output_type": "stream",
     "text": [
      "Val Accuracy: 0.9895\n",
      "Epoch 23/50:  "
     ]
    },
    {
     "name": "stderr",
     "output_type": "stream",
     "text": [
      "Loss : 0.0001, Accuracy: 1.0000: 100%|██████████| 15/15 [01:19<00:00,  5.30s/it]\n",
      "100%|██████████| 2/2 [00:04<00:00,  2.32s/it]\n"
     ]
    },
    {
     "name": "stdout",
     "output_type": "stream",
     "text": [
      "Val Accuracy: 0.9896\n",
      "Epoch 24/50:  "
     ]
    },
    {
     "name": "stderr",
     "output_type": "stream",
     "text": [
      "Loss : 0.0001, Accuracy: 1.0000: 100%|██████████| 15/15 [01:16<00:00,  5.07s/it]\n",
      "100%|██████████| 2/2 [00:05<00:00,  2.59s/it]\n"
     ]
    },
    {
     "name": "stdout",
     "output_type": "stream",
     "text": [
      "Val Accuracy: 0.9894\n",
      "Epoch 25/50:  "
     ]
    },
    {
     "name": "stderr",
     "output_type": "stream",
     "text": [
      "Loss : 0.0001, Accuracy: 1.0000: 100%|██████████| 15/15 [01:19<00:00,  5.28s/it]\n",
      "100%|██████████| 2/2 [00:06<00:00,  3.20s/it]\n"
     ]
    },
    {
     "name": "stdout",
     "output_type": "stream",
     "text": [
      "Val Accuracy: 0.9894\n",
      "Epoch 26/50:  "
     ]
    },
    {
     "name": "stderr",
     "output_type": "stream",
     "text": [
      "Loss : 0.0001, Accuracy: 1.0000: 100%|██████████| 15/15 [01:23<00:00,  5.57s/it]\n",
      "100%|██████████| 2/2 [00:06<00:00,  3.11s/it]\n"
     ]
    },
    {
     "name": "stdout",
     "output_type": "stream",
     "text": [
      "Val Accuracy: 0.9896\n",
      "Epoch 27/50:  "
     ]
    },
    {
     "name": "stderr",
     "output_type": "stream",
     "text": [
      "Loss : 0.0001, Accuracy: 1.0000: 100%|██████████| 15/15 [01:20<00:00,  5.37s/it]\n",
      "100%|██████████| 2/2 [00:06<00:00,  3.03s/it]\n"
     ]
    },
    {
     "name": "stdout",
     "output_type": "stream",
     "text": [
      "Val Accuracy: 0.9895\n",
      "Epoch 28/50:  "
     ]
    },
    {
     "name": "stderr",
     "output_type": "stream",
     "text": [
      "Loss : 0.0001, Accuracy: 1.0000: 100%|██████████| 15/15 [01:19<00:00,  5.27s/it]\n",
      "100%|██████████| 2/2 [00:05<00:00,  2.57s/it]\n"
     ]
    },
    {
     "name": "stdout",
     "output_type": "stream",
     "text": [
      "Val Accuracy: 0.9894\n",
      "Epoch 29/50:  "
     ]
    },
    {
     "name": "stderr",
     "output_type": "stream",
     "text": [
      "Loss : 0.0001, Accuracy: 1.0000: 100%|██████████| 15/15 [01:18<00:00,  5.22s/it]\n",
      "100%|██████████| 2/2 [00:05<00:00,  2.75s/it]\n"
     ]
    },
    {
     "name": "stdout",
     "output_type": "stream",
     "text": [
      "Val Accuracy: 0.9894\n",
      "Epoch 30/50:  "
     ]
    },
    {
     "name": "stderr",
     "output_type": "stream",
     "text": [
      "Loss : 0.0001, Accuracy: 1.0000: 100%|██████████| 15/15 [01:20<00:00,  5.36s/it]\n",
      "100%|██████████| 2/2 [00:07<00:00,  3.71s/it]\n"
     ]
    },
    {
     "name": "stdout",
     "output_type": "stream",
     "text": [
      "Val Accuracy: 0.9895\n",
      "Epoch 31/50:  "
     ]
    },
    {
     "name": "stderr",
     "output_type": "stream",
     "text": [
      "Loss : 0.0001, Accuracy: 1.0000: 100%|██████████| 15/15 [01:21<00:00,  5.41s/it]\n",
      "100%|██████████| 2/2 [00:06<00:00,  3.14s/it]\n"
     ]
    },
    {
     "name": "stdout",
     "output_type": "stream",
     "text": [
      "Val Accuracy: 0.9894\n",
      "Epoch 32/50:  "
     ]
    },
    {
     "name": "stderr",
     "output_type": "stream",
     "text": [
      "Loss : 0.0001, Accuracy: 1.0000: 100%|██████████| 15/15 [01:21<00:00,  5.45s/it]\n",
      "100%|██████████| 2/2 [00:05<00:00,  2.78s/it]\n"
     ]
    },
    {
     "name": "stdout",
     "output_type": "stream",
     "text": [
      "Val Accuracy: 0.9892\n",
      "Epoch 33/50:  "
     ]
    },
    {
     "name": "stderr",
     "output_type": "stream",
     "text": [
      "Loss : 0.0001, Accuracy: 1.0000: 100%|██████████| 15/15 [01:18<00:00,  5.23s/it]\n",
      "100%|██████████| 2/2 [00:05<00:00,  2.68s/it]\n"
     ]
    },
    {
     "name": "stdout",
     "output_type": "stream",
     "text": [
      "Val Accuracy: 0.9894\n",
      "Epoch 34/50:  "
     ]
    },
    {
     "name": "stderr",
     "output_type": "stream",
     "text": [
      "Loss : 0.0001, Accuracy: 1.0000: 100%|██████████| 15/15 [01:17<00:00,  5.16s/it]\n",
      "100%|██████████| 2/2 [00:04<00:00,  2.46s/it]\n"
     ]
    },
    {
     "name": "stdout",
     "output_type": "stream",
     "text": [
      "Val Accuracy: 0.9894\n",
      "Epoch 35/50:  "
     ]
    },
    {
     "name": "stderr",
     "output_type": "stream",
     "text": [
      "Loss : 0.0001, Accuracy: 1.0000: 100%|██████████| 15/15 [01:20<00:00,  5.38s/it]\n",
      "100%|██████████| 2/2 [00:05<00:00,  2.88s/it]\n"
     ]
    },
    {
     "name": "stdout",
     "output_type": "stream",
     "text": [
      "Val Accuracy: 0.9896\n",
      "Epoch 36/50:  "
     ]
    },
    {
     "name": "stderr",
     "output_type": "stream",
     "text": [
      "Loss : 0.0001, Accuracy: 1.0000: 100%|██████████| 15/15 [01:17<00:00,  5.15s/it]\n",
      "100%|██████████| 2/2 [00:04<00:00,  2.36s/it]\n"
     ]
    },
    {
     "name": "stdout",
     "output_type": "stream",
     "text": [
      "Val Accuracy: 0.9891\n",
      "Epoch 37/50:  "
     ]
    },
    {
     "name": "stderr",
     "output_type": "stream",
     "text": [
      "Loss : 0.0001, Accuracy: 1.0000: 100%|██████████| 15/15 [01:18<00:00,  5.23s/it]\n",
      "100%|██████████| 2/2 [00:05<00:00,  2.72s/it]\n"
     ]
    },
    {
     "name": "stdout",
     "output_type": "stream",
     "text": [
      "Val Accuracy: 0.9894\n",
      "Epoch 38/50:  "
     ]
    },
    {
     "name": "stderr",
     "output_type": "stream",
     "text": [
      "Loss : 0.0001, Accuracy: 1.0000: 100%|██████████| 15/15 [01:19<00:00,  5.33s/it]\n",
      "100%|██████████| 2/2 [00:06<00:00,  3.35s/it]\n"
     ]
    },
    {
     "name": "stdout",
     "output_type": "stream",
     "text": [
      "Val Accuracy: 0.9893\n",
      "Epoch 39/50:  "
     ]
    },
    {
     "name": "stderr",
     "output_type": "stream",
     "text": [
      "Loss : 0.0001, Accuracy: 1.0000: 100%|██████████| 15/15 [01:20<00:00,  5.33s/it]\n",
      "100%|██████████| 2/2 [00:05<00:00,  2.92s/it]\n"
     ]
    },
    {
     "name": "stdout",
     "output_type": "stream",
     "text": [
      "Val Accuracy: 0.9892\n",
      "Epoch 40/50:  "
     ]
    },
    {
     "name": "stderr",
     "output_type": "stream",
     "text": [
      "Loss : 0.0001, Accuracy: 1.0000: 100%|██████████| 15/15 [01:18<00:00,  5.21s/it]\n",
      "100%|██████████| 2/2 [00:05<00:00,  2.75s/it]\n"
     ]
    },
    {
     "name": "stdout",
     "output_type": "stream",
     "text": [
      "Val Accuracy: 0.9894\n",
      "Epoch 41/50:  "
     ]
    },
    {
     "name": "stderr",
     "output_type": "stream",
     "text": [
      "Loss : 0.0001, Accuracy: 1.0000: 100%|██████████| 15/15 [01:16<00:00,  5.13s/it]\n",
      "100%|██████████| 2/2 [00:04<00:00,  2.45s/it]\n"
     ]
    },
    {
     "name": "stdout",
     "output_type": "stream",
     "text": [
      "Val Accuracy: 0.9893\n",
      "Epoch 42/50:  "
     ]
    },
    {
     "name": "stderr",
     "output_type": "stream",
     "text": [
      "Loss : 0.0001, Accuracy: 1.0000: 100%|██████████| 15/15 [01:16<00:00,  5.13s/it]\n",
      "100%|██████████| 2/2 [00:04<00:00,  2.26s/it]\n"
     ]
    },
    {
     "name": "stdout",
     "output_type": "stream",
     "text": [
      "Val Accuracy: 0.9891\n",
      "Epoch 43/50:  "
     ]
    },
    {
     "name": "stderr",
     "output_type": "stream",
     "text": [
      "Loss : 0.0001, Accuracy: 1.0000: 100%|██████████| 15/15 [01:17<00:00,  5.20s/it]\n",
      "100%|██████████| 2/2 [00:04<00:00,  2.50s/it]\n"
     ]
    },
    {
     "name": "stdout",
     "output_type": "stream",
     "text": [
      "Val Accuracy: 0.9892\n",
      "Epoch 44/50:  "
     ]
    },
    {
     "name": "stderr",
     "output_type": "stream",
     "text": [
      "Loss : 0.0001, Accuracy: 1.0000: 100%|██████████| 15/15 [01:18<00:00,  5.27s/it]\n",
      "100%|██████████| 2/2 [00:06<00:00,  3.03s/it]\n"
     ]
    },
    {
     "name": "stdout",
     "output_type": "stream",
     "text": [
      "Val Accuracy: 0.9894\n",
      "Epoch 45/50:  "
     ]
    },
    {
     "name": "stderr",
     "output_type": "stream",
     "text": [
      "Loss : 0.0001, Accuracy: 1.0000: 100%|██████████| 15/15 [01:19<00:00,  5.27s/it]\n",
      "100%|██████████| 2/2 [00:05<00:00,  2.95s/it]\n"
     ]
    },
    {
     "name": "stdout",
     "output_type": "stream",
     "text": [
      "Val Accuracy: 0.9892\n",
      "Epoch 46/50:  "
     ]
    },
    {
     "name": "stderr",
     "output_type": "stream",
     "text": [
      "Loss : 0.0001, Accuracy: 1.0000: 100%|██████████| 15/15 [01:18<00:00,  5.23s/it]\n",
      "100%|██████████| 2/2 [00:05<00:00,  2.70s/it]\n"
     ]
    },
    {
     "name": "stdout",
     "output_type": "stream",
     "text": [
      "Val Accuracy: 0.9892\n",
      "Epoch 47/50:  "
     ]
    },
    {
     "name": "stderr",
     "output_type": "stream",
     "text": [
      "Loss : 0.0001, Accuracy: 1.0000: 100%|██████████| 15/15 [01:18<00:00,  5.24s/it]\n",
      "100%|██████████| 2/2 [00:04<00:00,  2.24s/it]\n"
     ]
    },
    {
     "name": "stdout",
     "output_type": "stream",
     "text": [
      "Val Accuracy: 0.9891\n",
      "Epoch 48/50:  "
     ]
    },
    {
     "name": "stderr",
     "output_type": "stream",
     "text": [
      "Loss : 0.0001, Accuracy: 1.0000: 100%|██████████| 15/15 [01:17<00:00,  5.18s/it]\n",
      "100%|██████████| 2/2 [00:04<00:00,  2.30s/it]\n"
     ]
    },
    {
     "name": "stdout",
     "output_type": "stream",
     "text": [
      "Val Accuracy: 0.9891\n",
      "Epoch 49/50:  "
     ]
    },
    {
     "name": "stderr",
     "output_type": "stream",
     "text": [
      "Loss : 0.0001, Accuracy: 1.0000: 100%|██████████| 15/15 [01:17<00:00,  5.18s/it]\n",
      "100%|██████████| 2/2 [00:05<00:00,  2.78s/it]\n"
     ]
    },
    {
     "name": "stdout",
     "output_type": "stream",
     "text": [
      "Val Accuracy: 0.9893\n"
     ]
    }
   ],
   "source": [
    "# Training model\n",
    "EPOCHS = 50\n",
    "best_acc = 0.989\n",
    "for epoch in range(EPOCHS):\n",
    "    print(f\"Epoch {epoch}/{EPOCHS}: \", end = ' ')\n",
    "    mean_loss = torch.zeros(1)\n",
    "    pbar = enumerate(dataloader_train)\n",
    "    pbar = tqdm(pbar, total=len(dataloader_train))\n",
    "    model.train()\n",
    "    for i, data in pbar:\n",
    "        inputs, targets = data\n",
    "        optimizer.zero_grad()\n",
    "        outputs = model(inputs)\n",
    "        loss = loss_function(outputs, targets.max(dim=1)[1])\n",
    "        loss.backward()\n",
    "        optimizer.step()\n",
    "        mean_loss = (mean_loss * i + loss) / (i + 1)\n",
    "        acc = (outputs.softmax(dim=1).argmax(dim=1) == targets.argmax(dim=1)).sum()\n",
    "        pbar.set_description(\"Loss : %.4f, Accuracy: %.4f\" % (mean_loss.item(), acc/len(targets)))\n",
    "    model.eval()\n",
    "    pbar = enumerate(dataloader_test)\n",
    "    pbar = tqdm(pbar, total=len(dataloader_test))\n",
    "    acc = 0.0\n",
    "    for i, (inputs, targets) in pbar:\n",
    "        preds = model(inputs)\n",
    "        acc += (preds.softmax(dim=1).argmax(dim=1) == targets.argmax(dim=1)).sum()\n",
    "    acc /= len(test_dataset)\n",
    "    if (acc > best_acc):\n",
    "        best_acc = acc\n",
    "        torch.save(model, \"number_recognition_best.pt\")\n",
    "    torch.save(model, \"number_recognition_last.pt\")\n",
    "    print(\"Val Accuracy: %.4f\" % (acc))"
   ]
  },
  {
   "cell_type": "code",
   "execution_count": 96,
   "metadata": {},
   "outputs": [],
   "source": [
    "torch.save(model, \"number_recognition.pt\")"
   ]
  },
  {
   "cell_type": "code",
   "execution_count": 224,
   "metadata": {},
   "outputs": [
    {
     "name": "stdout",
     "output_type": "stream",
     "text": [
      "Model: \"sequential_8\"\n",
      "_________________________________________________________________\n",
      " Layer (type)                Output Shape              Param #   \n",
      "=================================================================\n",
      " conv2d_11 (Conv2D)          (None, 28, 28, 10)        100       \n",
      "                                                                 \n",
      " max_pooling2d_11 (MaxPoolin  (None, 14, 14, 10)       0         \n",
      " g2D)                                                            \n",
      "                                                                 \n",
      " conv2d_12 (Conv2D)          (None, 14, 14, 32)        2912      \n",
      "                                                                 \n",
      " max_pooling2d_12 (MaxPoolin  (None, 7, 7, 32)         0         \n",
      " g2D)                                                            \n",
      "                                                                 \n",
      " flatten_8 (Flatten)         (None, 1568)              0         \n",
      "                                                                 \n",
      " dense_20 (Dense)            (None, 512)               803328    \n",
      "                                                                 \n",
      " dense_21 (Dense)            (None, 128)               65664     \n",
      "                                                                 \n",
      " dense_22 (Dense)            (None, 10)                1290      \n",
      "                                                                 \n",
      "=================================================================\n",
      "Total params: 873,294\n",
      "Trainable params: 873,294\n",
      "Non-trainable params: 0\n",
      "_________________________________________________________________\n",
      "None\n"
     ]
    }
   ],
   "source": [
    "# building a linear stack of layers with the sequential model\n",
    "model = Sequential()\n",
    "# convolutional layer\n",
    "model.add(Conv2D(10, kernel_size=(3,3), strides=(1,1), padding='same', activation='relu', input_shape=(28,28,1)))\n",
    "model.add(MaxPool2D(pool_size=(2,2)))\n",
    "model.add(Conv2D(32, kernel_size=(3,3), strides=(1,1), padding='same', activation='relu', input_shape=(14,14,10)))\n",
    "model.add(MaxPool2D(pool_size=(2,2)))\n",
    "# flatten output of conv\n",
    "model.add(Flatten())\n",
    "# hidden layer\n",
    "model.add(Dense(512, activation='relu'))\n",
    "# hidden layer\n",
    "model.add(Dense(128, activation='relu'))\n",
    "# output layer\n",
    "model.add(Dense(10, activation='softmax'))\n",
    "print(model.summary())\n",
    "# compiling the sequential model\n",
    "model.compile(loss='categorical_crossentropy', metrics=['accuracy'], optimizer='adam')"
   ]
  },
  {
   "cell_type": "code",
   "execution_count": 260,
   "metadata": {},
   "outputs": [
    {
     "name": "stdout",
     "output_type": "stream",
     "text": [
      "Epoch 1/10\n",
      "15/15 [==============================] - 11s 729ms/step - loss: 5.8006e-04 - accuracy: 1.0000 - val_loss: 0.1011 - val_accuracy: 0.9783\n",
      "Epoch 2/10\n",
      "15/15 [==============================] - 12s 834ms/step - loss: 5.8577e-04 - accuracy: 1.0000 - val_loss: 0.1074 - val_accuracy: 0.9767\n",
      "Epoch 3/10\n",
      "15/15 [==============================] - 13s 878ms/step - loss: 5.1138e-04 - accuracy: 1.0000 - val_loss: 0.1010 - val_accuracy: 0.9782\n",
      "Epoch 4/10\n",
      "15/15 [==============================] - 12s 835ms/step - loss: 5.0952e-04 - accuracy: 1.0000 - val_loss: 0.0954 - val_accuracy: 0.9798\n",
      "Epoch 5/10\n",
      "15/15 [==============================] - 13s 836ms/step - loss: 4.7740e-04 - accuracy: 1.0000 - val_loss: 0.1082 - val_accuracy: 0.9763\n",
      "Epoch 6/10\n",
      "15/15 [==============================] - 13s 841ms/step - loss: 4.6041e-04 - accuracy: 1.0000 - val_loss: 0.1040 - val_accuracy: 0.9780\n",
      "Epoch 7/10\n",
      "15/15 [==============================] - 13s 849ms/step - loss: 4.5068e-04 - accuracy: 1.0000 - val_loss: 0.1051 - val_accuracy: 0.9771\n",
      "Epoch 8/10\n",
      "15/15 [==============================] - 13s 844ms/step - loss: 4.5073e-04 - accuracy: 1.0000 - val_loss: 0.1012 - val_accuracy: 0.9790\n",
      "Epoch 9/10\n",
      "15/15 [==============================] - 12s 833ms/step - loss: 4.4777e-04 - accuracy: 1.0000 - val_loss: 0.1031 - val_accuracy: 0.9779\n",
      "Epoch 10/10\n",
      "15/15 [==============================] - 13s 844ms/step - loss: 3.8755e-04 - accuracy: 1.0000 - val_loss: 0.1045 - val_accuracy: 0.9777\n"
     ]
    },
    {
     "data": {
      "text/plain": [
       "<keras.callbacks.History at 0x1be7d254c10>"
      ]
     },
     "execution_count": 260,
     "metadata": {},
     "output_type": "execute_result"
    }
   ],
   "source": [
    "# training the model for 10 epochs\n",
    "model.fit(X_train, Y_train, batch_size=4096, epochs=10, validation_data=(X_test, Y_test))"
   ]
  },
  {
   "cell_type": "code",
   "execution_count": 259,
   "metadata": {},
   "outputs": [
    {
     "name": "stderr",
     "output_type": "stream",
     "text": [
      "WARNING:absl:Found untraced functions such as _jit_compiled_convolution_op, _jit_compiled_convolution_op, _update_step_xla while saving (showing 3 of 3). These functions will not be directly callable after loading.\n"
     ]
    },
    {
     "name": "stdout",
     "output_type": "stream",
     "text": [
      "INFO:tensorflow:Assets written to: number_classification\\assets\n"
     ]
    },
    {
     "name": "stderr",
     "output_type": "stream",
     "text": [
      "INFO:tensorflow:Assets written to: number_classification\\assets\n"
     ]
    }
   ],
   "source": [
    "model.save(\"number_classification\")"
   ]
  },
  {
   "cell_type": "code",
   "execution_count": 104,
   "metadata": {},
   "outputs": [],
   "source": [
    "classifier = keras.models.load_model(\"number_classification\")"
   ]
  },
  {
   "cell_type": "code",
   "execution_count": 128,
   "metadata": {},
   "outputs": [
    {
     "data": {
      "text/plain": [
       "(2, 28, 28, 1)"
      ]
     },
     "execution_count": 128,
     "metadata": {},
     "output_type": "execute_result"
    }
   ],
   "source": [
    "np.asarray(test).shape"
   ]
  },
  {
   "cell_type": "code",
   "execution_count": 364,
   "metadata": {},
   "outputs": [
    {
     "name": "stdout",
     "output_type": "stream",
     "text": [
      "1/1 [==============================] - 0s 27ms/step\n"
     ]
    }
   ],
   "source": [
    "pred = model.predict(np.asarray(test))"
   ]
  },
  {
   "cell_type": "code",
   "execution_count": 365,
   "metadata": {},
   "outputs": [
    {
     "data": {
      "text/plain": [
       "array([6, 0], dtype=int64)"
      ]
     },
     "execution_count": 365,
     "metadata": {},
     "output_type": "execute_result"
    }
   ],
   "source": [
    "pred.argmax(axis=1)"
   ]
  },
  {
   "cell_type": "code",
   "execution_count": 74,
   "metadata": {},
   "outputs": [],
   "source": [
    "a = X_train[0]\n",
    "a[a > 0.3] = 1\n",
    "a[a != 1] = 0"
   ]
  },
  {
   "cell_type": "code",
   "execution_count": 115,
   "metadata": {},
   "outputs": [
    {
     "data": {
      "text/plain": [
       "tensor([[0.],\n",
       "        [0.],\n",
       "        [0.],\n",
       "        [0.],\n",
       "        [0.],\n",
       "        [0.],\n",
       "        [0.],\n",
       "        [0.],\n",
       "        [0.],\n",
       "        [0.],\n",
       "        [0.],\n",
       "        [1.],\n",
       "        [1.],\n",
       "        [0.],\n",
       "        [0.],\n",
       "        [0.],\n",
       "        [0.],\n",
       "        [0.],\n",
       "        [0.],\n",
       "        [0.],\n",
       "        [0.],\n",
       "        [0.],\n",
       "        [0.],\n",
       "        [0.],\n",
       "        [0.],\n",
       "        [0.],\n",
       "        [0.],\n",
       "        [0.]])"
      ]
     },
     "execution_count": 115,
     "metadata": {},
     "output_type": "execute_result"
    }
   ],
   "source": [
    "torch.from_numpy(X_train[0]).permute(1,2,0)[10]"
   ]
  },
  {
   "cell_type": "code",
   "execution_count": 116,
   "metadata": {},
   "outputs": [
    {
     "data": {
      "text/plain": [
       "<matplotlib.image.AxesImage at 0x2db3150b9a0>"
      ]
     },
     "execution_count": 116,
     "metadata": {},
     "output_type": "execute_result"
    },
    {
     "data": {
      "image/png": "[encoded data removed]",
      "text/plain": [
       "<Figure size 640x480 with 1 Axes>"
      ]
     },
     "metadata": {},
     "output_type": "display_data"
    }
   ],
   "source": [
    "plt.imshow(torch.from_numpy(X_train[0]).permute(1,2,0))"
   ]
  },
  {
   "cell_type": "code",
   "execution_count": 141,
   "metadata": {},
   "outputs": [
    {
     "data": {
      "text/plain": [
       "array([0., 0., 0., 0., 0., 1., 0., 0., 0., 0.], dtype=float32)"
      ]
     },
     "execution_count": 141,
     "metadata": {},
     "output_type": "execute_result"
    }
   ],
   "source": [
    "Y_train[0]"
   ]
  },
  {
   "cell_type": "code",
   "execution_count": 411,
   "metadata": {},
   "outputs": [],
   "source": [
    "num = torch.stack([torch.from_numpy(test[0]), torch.from_numpy(test[1])])"
   ]
  },
  {
   "cell_type": "code",
   "execution_count": 302,
   "metadata": {},
   "outputs": [
    {
     "data": {
      "text/plain": [
       "torch.Size([2, 1, 28, 28])"
      ]
     },
     "execution_count": 302,
     "metadata": {},
     "output_type": "execute_result"
    }
   ],
   "source": [
    "num.shape"
   ]
  },
  {
   "cell_type": "code",
   "execution_count": 260,
   "metadata": {},
   "outputs": [],
   "source": [
    "model_best = torch.load(\"number_recognition_best.pt\")"
   ]
  },
  {
   "cell_type": "code",
   "execution_count": 412,
   "metadata": {},
   "outputs": [],
   "source": [
    "preds_0 = model(num)\n",
    "preds_1 = model_best(num)"
   ]
  },
  {
   "cell_type": "code",
   "execution_count": 413,
   "metadata": {},
   "outputs": [
    {
     "data": {
      "text/plain": [
       "(tensor([[2.4687e-03, 6.5712e-04, 1.5080e-05, 1.2199e-05, 4.0041e-04, 8.6358e-02,\n",
       "          9.0488e-01, 1.9906e-04, 5.0030e-03, 3.7380e-06],\n",
       "         [9.9769e-01, 2.2288e-04, 2.4554e-04, 7.5558e-05, 7.7854e-04, 4.2912e-04,\n",
       "          1.9092e-04, 1.4514e-05, 1.2307e-04, 2.3168e-04]],\n",
       "        grad_fn=<SoftmaxBackward>),\n",
       " tensor([[3.9095e-03, 1.1210e-03, 2.9479e-05, 2.4245e-05, 6.2291e-04, 1.0825e-01,\n",
       "          8.7858e-01, 3.0645e-04, 7.1456e-03, 8.8975e-06],\n",
       "         [9.9617e-01, 3.9672e-04, 4.1224e-04, 1.2547e-04, 1.2278e-03, 7.2240e-04,\n",
       "          3.2492e-04, 2.8271e-05, 2.1865e-04, 3.7621e-04]],\n",
       "        grad_fn=<SoftmaxBackward>))"
      ]
     },
     "execution_count": 413,
     "metadata": {},
     "output_type": "execute_result"
    }
   ],
   "source": [
    "preds_0.softmax(dim=1), preds_1.softmax(dim=1)"
   ]
  },
  {
   "cell_type": "code",
   "execution_count": 414,
   "metadata": {},
   "outputs": [
    {
     "data": {
      "text/plain": [
       "(torch.return_types.max(\n",
       " values=tensor([0.9049, 0.9977], grad_fn=<MaxBackward0>),\n",
       " indices=tensor([6, 0])),\n",
       " torch.return_types.max(\n",
       " values=tensor([0.8786, 0.9962], grad_fn=<MaxBackward0>),\n",
       " indices=tensor([6, 0])))"
      ]
     },
     "execution_count": 414,
     "metadata": {},
     "output_type": "execute_result"
    }
   ],
   "source": [
    "preds_0.softmax(dim=1).max(dim=1), preds_1.softmax(dim=1).max(dim=1)"
   ]
  },
  {
   "cell_type": "code",
   "execution_count": 247,
   "metadata": {},
   "outputs": [],
   "source": [
    "test[0][test[0] != 1] = 0"
   ]
  },
  {
   "cell_type": "code",
   "execution_count": 131,
   "metadata": {},
   "outputs": [],
   "source": [
    "test[1][test[1] < 0.2] = 0\n",
    "test[1][test[1] >= 0.2] = 1"
   ]
  },
  {
   "cell_type": "code",
   "execution_count": null,
   "metadata": {},
   "outputs": [],
   "source": []
  }
 ],
 "metadata": {
  "kernelspec": {
   "display_name": "Python 3",
   "language": "python",
   "name": "python3"
  },
  "language_info": {
   "codemirror_mode": {
    "name": "ipython",
    "version": 3
   },
   "file_extension": ".py",
   "mimetype": "text/x-python",
   "name": "python",
   "nbconvert_exporter": "python",
   "pygments_lexer": "ipython3",
   "version": "3.10.9"
  },
  "orig_nbformat": 4
 },
 "nbformat": 4,
 "nbformat_minor": 2
}
